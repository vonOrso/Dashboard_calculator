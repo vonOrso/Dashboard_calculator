{
 "cells": [
  {
   "cell_type": "code",
   "execution_count": 1,
   "id": "a96fb00d-23ee-48c9-b253-950d0a111b00",
   "metadata": {},
   "outputs": [],
   "source": [
    "import defs_calculator"
   ]
  },
  {
   "cell_type": "markdown",
   "id": "d897867c-64bb-49bc-bd87-de34dd9a9f18",
   "metadata": {},
   "source": [
    "Example of work"
   ]
  },
  {
   "cell_type": "code",
   "execution_count": 2,
   "id": "8a1a7c6b-1a60-4e74-a513-9ee32e06c748",
   "metadata": {},
   "outputs": [
    {
     "data": {
      "text/plain": [
       "'Completed'"
      ]
     },
     "execution_count": 2,
     "metadata": {},
     "output_type": "execute_result"
    }
   ],
   "source": [
    "# Dashboard width (only int)\n",
    "db_width = 1440\n",
    "# Dashboard height (only int)\n",
    "db_height = 810\n",
    "\n",
    "# Array with blocks width\n",
    "db_hor_sizes = [['Auto'],\n",
    "                ['Auto', 'Auto', 280, 'Auto', 'Auto'],\n",
    "                ['Auto', 566, 'Auto'],\n",
    "                ['Auto', 566, 'Auto']]\n",
    "\n",
    "# Array with blocks height\n",
    "db_ver_sizes = [75, 130, 'Auto', 315]\n",
    "\n",
    "# Work example\n",
    "defs_calculator.dashboard_calculator(db_width, db_height, db_hor_sizes, db_ver_sizes,\n",
    "                                     img_name_and_format = 'Example.png', save = 'Yes')"
   ]
  },
  {
   "cell_type": "code",
   "execution_count": null,
   "id": "13de43dc-93ff-4a6d-9d11-08ab86460f50",
   "metadata": {},
   "outputs": [],
   "source": []
  }
 ],
 "metadata": {
  "kernelspec": {
   "display_name": "Python 3 (ipykernel)",
   "language": "python",
   "name": "python3"
  },
  "language_info": {
   "codemirror_mode": {
    "name": "ipython",
    "version": 3
   },
   "file_extension": ".py",
   "mimetype": "text/x-python",
   "name": "python",
   "nbconvert_exporter": "python",
   "pygments_lexer": "ipython3",
   "version": "3.10.1"
  }
 },
 "nbformat": 4,
 "nbformat_minor": 5
}
